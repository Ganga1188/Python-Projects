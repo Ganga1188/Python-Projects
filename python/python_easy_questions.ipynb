{
 "cells": [
  {
   "cell_type": "markdown",
   "metadata": {},
   "source": [
    "## Questions based on List Data Structure"
   ]
  },
  {
   "cell_type": "markdown",
   "metadata": {},
   "source": [
    "1.\tWrite a function that takes a 3x3 list as input and returns its transpose. Show the original and transposed lists. \t\n",
    "2.\tWrite a function that takes a list of lists and turns it into a single list. Show the original and flattened lists. \t\n",
    "3.\tWrite a function that shifts a list by n positions. Show the original and shifted lists."
   ]
  },
  {
   "cell_type": "code",
   "execution_count": null,
   "metadata": {},
   "outputs": [],
   "source": []
  }
 ],
 "metadata": {
  "language_info": {
   "name": "python"
  }
 },
 "nbformat": 4,
 "nbformat_minor": 2
}
